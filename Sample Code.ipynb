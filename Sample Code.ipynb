{
 "cells": [
  {
   "attachments": {},
   "cell_type": "markdown",
   "metadata": {},
   "source": [
    "# Sample Code for Veeva Systems\n",
    "Rafsan Hamid"
   ]
  },
  {
   "attachments": {},
   "cell_type": "markdown",
   "metadata": {},
   "source": [
    "### Question\n",
    "**How is Argentina's performance in Men's Football compared to Brazil's when they play in the same year?**\n"
   ]
  },
  {
   "attachments": {},
   "cell_type": "markdown",
   "metadata": {},
   "source": [
    "### ETL\n"
   ]
  },
  {
   "cell_type": "code",
   "execution_count": null,
   "metadata": {},
   "outputs": [],
   "source": [
    "# importing libraries and packages\n",
    "import numpy as np\n",
    "import pandas as pd\n",
    "import matplotlib.pyplot as plt\n",
    "from matplotlib.ticker import MaxNLocator\n",
    "import seaborn as sns\n",
    "sns.set(color_codes=True)"
   ]
  },
  {
   "cell_type": "code",
   "execution_count": null,
   "metadata": {},
   "outputs": [],
   "source": [
    "# importing olympic dataset\n",
    "olympic_data_raw = pd.read_csv(\"/Users/rafsanhamid/Desktop/Applied            Analytics/OlympicHistoryAthletes.csv\")\n",
    "olympic_data_raw.head()"
   ]
  },
  {
   "attachments": {},
   "cell_type": "markdown",
   "metadata": {},
   "source": [
    "#### Data Summary"
   ]
  },
  {
   "cell_type": "code",
   "execution_count": null,
   "metadata": {},
   "outputs": [],
   "source": [
    "olympic_data_raw.describe()"
   ]
  },
  {
   "attachments": {},
   "cell_type": "markdown",
   "metadata": {},
   "source": [
    "#### Data splitting and cleaning\n",
    "Splitting dataset into subsets specific to each question and replacing necessary null values"
   ]
  },
  {
   "cell_type": "code",
   "execution_count": null,
   "metadata": {},
   "outputs": [],
   "source": [
    "# subsetting dataset\n",
    "q1_data_raw = olympic_data_raw[['Team', 'Year', 'Event', 'Medal']]\n",
    "q1_data_raw.sort_values(by='Year', ascending = True, inplace=True)\n",
    "\n",
    "# including data for Argentina and Brazil only\n",
    "teams = ['Brazil', 'Argentina']\n",
    "index = q1_data_raw['Team'].isin(teams)\n",
    "q1_data = q1_data_raw[index]\n",
    "\n",
    "# including data for Men's Football only\n",
    "q1_data = q1_data[(q1_data['Event'] == \"Football Men's Football\")]\n",
    "\n",
    "# dropping duplicate rows\n",
    "q1_data = q1_data.drop_duplicates()\n",
    "\n",
    "# adding empty points column\n",
    "q1_data['Points'] = None\n",
    "\n",
    "# replacing null values\n",
    "q1_data = q1_data.fillna('None')\n",
    "\n",
    "# assigning points for each medal earned (1 - Bronze, 2 - Silver, 3 - Gold)\n",
    "for index, row in q1_data.iterrows():\n",
    "    if row['Medal'] == 'Gold':\n",
    "        q1_data.at[index, 'Points'] = 3\n",
    "    elif row['Medal'] == 'Silver':\n",
    "        q1_data.at[index, 'Points'] = 2\n",
    "    elif row['Medal'] == 'Bronze':\n",
    "        q1_data.at[index, 'Points'] = 1\n",
    "    elif row['Medal'] == 'None':\n",
    "        q1_data.at[index, 'Points'] = 0\n",
    "\n",
    "# Filter only rows with \"Argentina\" or \"Brazil\" in the \"Country\" column\n",
    "q1_data = q1_data[(q1_data[\"Team\"] == \"Brazil\") | (q1_data[\"Team\"] == \"Argentina\")]\n",
    "# Group by \"Year\" and count the number of rows for each year\n",
    "q1_grouped = q1_data.groupby(\"Year\").count()\n",
    "\n",
    "# Filter only years where both Argentina and Brazil played in the same year\n",
    "q1_grouped = q1_grouped[q1_grouped[\"Team\"] == 2]\n",
    "\n",
    "# Get the list of years where both Argentina and Brazil played in the same year\n",
    "years = q1_grouped.index.tolist()\n",
    "\n",
    "# Filter the original dataframe with the list of years\n",
    "q1_data = q1_data[q1_data[\"Year\"].isin(years)]\n",
    "\n",
    "# converting points column to numeric values\n",
    "q1_data['Points'] = pd.to_numeric(q1_data['Points'], errors='coerce')\n",
    "q1_data = q1_data.dropna(subset=['Points'])\n",
    "\n",
    "q1_data"
   ]
  },
  {
   "attachments": {},
   "cell_type": "markdown",
   "metadata": {},
   "source": [
    "### EDA"
   ]
  },
  {
   "cell_type": "code",
   "execution_count": null,
   "metadata": {},
   "outputs": [],
   "source": [
    "# replace the \"Team\" values with their corresponding country names\n",
    "q1_data[\"Team\"] = q1_data[\"Team\"].replace({185310: \"Argentina\", 132666: \"Brazil\"})\n",
    "\n",
    "# plot the line chart\n",
    "sns.scatterplot(x = \"Year\", y = \"Points\", hue = \"Team\", data = q1_data, s = 200)\n",
    "plt.title(\"Performance in Men's Football\")\n",
    "\n",
    "# format the y-axis to show only whole numbers\n",
    "y_axis = plt.gca().yaxis\n",
    "y_axis.set_major_locator(MaxNLocator(integer=True))\n",
    "\n",
    "plt.show()"
   ]
  }
 ],
 "metadata": {
  "kernelspec": {
   "display_name": "base",
   "language": "python",
   "name": "python3"
  },
  "language_info": {
   "codemirror_mode": {
    "name": "ipython",
    "version": 3
   },
   "file_extension": ".py",
   "mimetype": "text/x-python",
   "name": "python",
   "nbconvert_exporter": "python",
   "pygments_lexer": "ipython3",
   "version": "3.8.8"
  },
  "orig_nbformat": 4,
  "vscode": {
   "interpreter": {
    "hash": "157e895458085d4ed4c4eda1c29864e610022d137297c03b4ad9c8385db4af26"
   }
  }
 },
 "nbformat": 4,
 "nbformat_minor": 2
}
